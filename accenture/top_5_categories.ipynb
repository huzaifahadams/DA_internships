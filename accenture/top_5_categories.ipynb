{
 "cells": [
  {
   "cell_type": "code",
   "execution_count": 3,
   "metadata": {},
   "outputs": [],
   "source": [
    "import pandas as pd\n",
    "\n",
    "# Load datasets\n",
    "content_df = pd.read_csv(\"Cleaned_content.csv\")\n",
    "reactions_df = pd.read_csv(\"Cleaned_reactions.csv\")\n",
    "reaction_types_df = pd.read_csv(\"ReactionTypes.csv\")\n",
    "\n",
    "# Join Cleaned_reactions with Cleaned_content\n",
    "merged_df = pd.merge(reactions_df, content_df, on=\"Content ID\", how=\"left\")\n",
    "\n",
    "# Join with ReactionTypes\n",
    "merged_df = pd.merge(merged_df, reaction_types_df, left_on=\"Reactions Type\", right_on=\"Type\", how=\"left\")\n",
    "\n",
    "# Calculate total scores for each category\n",
    "category_scores = merged_df.groupby(\"Category\")[\"Score\"].sum()\n",
    "\n",
    "# Sort categories by total scores and select top 5\n",
    "top_categories = category_scores.nlargest(5)\n",
    "\n",
    "# Save to a new CSV file\n",
    "top_categories.to_csv(\"Top_categories.csv\", header=True)\n"
   ]
  }
 ],
 "metadata": {
  "kernelspec": {
   "display_name": "base",
   "language": "python",
   "name": "python3"
  },
  "language_info": {
   "codemirror_mode": {
    "name": "ipython",
    "version": 3
   },
   "file_extension": ".py",
   "mimetype": "text/x-python",
   "name": "python",
   "nbconvert_exporter": "python",
   "pygments_lexer": "ipython3",
   "version": "3.10.9"
  }
 },
 "nbformat": 4,
 "nbformat_minor": 2
}
