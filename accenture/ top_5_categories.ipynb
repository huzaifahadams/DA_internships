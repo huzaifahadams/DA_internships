{
 "cells": [
  {
   "cell_type": "markdown",
   "metadata": {},
   "source": [
    "### Social Buzz is a fast growing technology unicorn that need to adapt quickly to it's global scale.\n",
    "##### Accenture has begun a 3 month POC focusing on these tasks:\n",
    "> • An audit of Social Buzz's big data practice\n",
    "\n",
    "> • Recommendations for a successful IPO\n",
    "\n",
    "> • Analysis to find Social Buzz's top 5 most popular categories of content"
   ]
  },
  {
   "cell_type": "code",
   "execution_count": 10,
   "metadata": {},
   "outputs": [
    {
     "name": "stdout",
     "output_type": "stream",
     "text": [
      "                             Content ID Rections Type             Datetime  \\\n",
      "0  97522e57-d9ab-4bd6-97bf-c24d952602d2       disgust  2020-11-07 09:43:50   \n",
      "1  97522e57-d9ab-4bd6-97bf-c24d952602d2       dislike  2021-06-17 12:22:51   \n",
      "2  97522e57-d9ab-4bd6-97bf-c24d952602d2        scared  2021-04-18 05:13:58   \n",
      "3  97522e57-d9ab-4bd6-97bf-c24d952602d2       disgust  2021-01-06 19:13:01   \n",
      "4  97522e57-d9ab-4bd6-97bf-c24d952602d2    interested  2020-08-23 12:25:58   \n",
      "\n",
      "  Content Type  Category Sentiment  Score  \n",
      "0        photo  Studying  negative      0  \n",
      "1        photo  Studying  negative     10  \n",
      "2        photo  Studying  negative     15  \n",
      "3        photo  Studying  negative      0  \n",
      "4        photo  Studying  positive     30  \n"
     ]
    }
   ],
   "source": [
    "import pandas as pd\n",
    "# Load cleaned datasets\n",
    "cleaned_content = pd.read_csv('cleaned_content.csv')\n",
    "cleaned_reactions = pd.read_csv('cleaned_rections.csv')  # Corrected file name\n",
    "reaction_types = pd.read_csv('ReactionTypes.csv')\n",
    "\n",
    "# Merge cleaned_reactions with cleaned_content using 'Content ID' as the key\n",
    "merged_data = pd.merge(cleaned_reactions, cleaned_content, on='Content ID', how='left')\n",
    "\n",
    "# Merge merged_data with reaction_types using 'Reaction Type' as the key\n",
    "final_data = pd.merge(merged_data, reaction_types, left_on='Rections Type', right_on='Type', how='left')\n",
    "\n",
    "# Drop unnecessary columns\n",
    "final_data.drop(columns=['Unnamed: 0_x', 'Unnamed: 0_y', 'Type'], inplace=True)\n",
    "\n",
    "# Reorder columns\n",
    "final_data = final_data[['Content ID', 'Rections Type', 'Datetime', 'Content Type', 'Category', 'Sentiment', 'Score']]\n",
    "\n",
    "# Display the first few rows of the final merged dataset\n",
    "print(final_data.head(40))\n",
    "final_data.to_csv('top_5_categories.csv', index=False)\n",
    "\n"
   ]
  }
 ],
 "metadata": {
  "kernelspec": {
   "display_name": "base",
   "language": "python",
   "name": "python3"
  },
  "language_info": {
   "codemirror_mode": {
    "name": "ipython",
    "version": 3
   },
   "file_extension": ".py",
   "mimetype": "text/x-python",
   "name": "python",
   "nbconvert_exporter": "python",
   "pygments_lexer": "ipython3",
   "version": "3.10.9"
  }
 },
 "nbformat": 4,
 "nbformat_minor": 2
}
