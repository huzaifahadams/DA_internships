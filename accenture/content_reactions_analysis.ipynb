{
 "cells": [
  {
   "cell_type": "markdown",
   "metadata": {},
   "source": [
    "### Social Buzz is a fast growing technology unicorn that need to adapt quickly to it's global scale.\n",
    "##### Accenture has begun a 3 month POC focusing on these tasks:\n",
    "> • An audit of Social Buzz's big data practice\n",
    "\n",
    "> • Recommendations for a successful IPO\n",
    "\n",
    "> • Analysis to find Social Buzz's top 5 most popular categories of content"
   ]
  },
  {
   "cell_type": "markdown",
   "metadata": {},
   "source": [
    "# PROBLEM\n",
    "\n",
    "Over 100000 posts per day\n",
    "\n",
    "36.500.000 pieces of content per year!\n",
    "\n",
    "But how to capitalize on it when there is so much?\n",
    "\n",
    "Analysis to find Social Buzz's top 5 most popular categories of content"
   ]
  },
  {
   "cell_type": "code",
   "execution_count": 2,
   "metadata": {},
   "outputs": [
    {
     "name": "stdout",
     "output_type": "stream",
     "text": [
      "                              Content ID Rections Type             Datetime  \\\n",
      "0   97522e57-d9ab-4bd6-97bf-c24d952602d2       disgust  2020-11-07 09:43:50   \n",
      "1   97522e57-d9ab-4bd6-97bf-c24d952602d2       dislike  2021-06-17 12:22:51   \n",
      "2   97522e57-d9ab-4bd6-97bf-c24d952602d2        scared  2021-04-18 05:13:58   \n",
      "3   97522e57-d9ab-4bd6-97bf-c24d952602d2       disgust  2021-01-06 19:13:01   \n",
      "4   97522e57-d9ab-4bd6-97bf-c24d952602d2    interested  2020-08-23 12:25:58   \n",
      "5   97522e57-d9ab-4bd6-97bf-c24d952602d2       peeking  2020-12-07 06:27:54   \n",
      "6   97522e57-d9ab-4bd6-97bf-c24d952602d2       cherish  2021-04-11 17:35:49   \n",
      "7   97522e57-d9ab-4bd6-97bf-c24d952602d2          hate  2021-01-27 08:32:09   \n",
      "8   97522e57-d9ab-4bd6-97bf-c24d952602d2       peeking  2021-04-01 22:54:23   \n",
      "9   97522e57-d9ab-4bd6-97bf-c24d952602d2   indifferent  2020-11-07 08:36:27   \n",
      "10  97522e57-d9ab-4bd6-97bf-c24d952602d2        scared  2020-11-02 06:28:53   \n",
      "11  97522e57-d9ab-4bd6-97bf-c24d952602d2    interested  2020-11-01 01:16:21   \n",
      "12  97522e57-d9ab-4bd6-97bf-c24d952602d2          hate  2020-10-07 18:39:08   \n",
      "13  97522e57-d9ab-4bd6-97bf-c24d952602d2        scared  2020-09-03 18:51:38   \n",
      "14  97522e57-d9ab-4bd6-97bf-c24d952602d2    super love  2021-02-24 05:09:23   \n",
      "15  97522e57-d9ab-4bd6-97bf-c24d952602d2       peeking  2020-09-23 06:24:11   \n",
      "16  97522e57-d9ab-4bd6-97bf-c24d952602d2   indifferent  2021-02-24 11:37:57   \n",
      "17  97522e57-d9ab-4bd6-97bf-c24d952602d2    interested  2021-05-22 19:44:23   \n",
      "18  97522e57-d9ab-4bd6-97bf-c24d952602d2       peeking  2020-11-20 17:26:23   \n",
      "19  97522e57-d9ab-4bd6-97bf-c24d952602d2       worried  2021-04-11 20:47:13   \n",
      "20  97522e57-d9ab-4bd6-97bf-c24d952602d2          like  2021-06-13 16:46:06   \n",
      "21  97522e57-d9ab-4bd6-97bf-c24d952602d2         heart  2021-04-11 14:29:59   \n",
      "22  97522e57-d9ab-4bd6-97bf-c24d952602d2       worried  2021-03-02 19:21:19   \n",
      "23  97522e57-d9ab-4bd6-97bf-c24d952602d2          hate  2020-06-27 18:44:39   \n",
      "24  97522e57-d9ab-4bd6-97bf-c24d952602d2          hate  2021-05-09 21:05:17   \n",
      "25  97522e57-d9ab-4bd6-97bf-c24d952602d2       cherish  2020-08-04 23:58:42   \n",
      "26  97522e57-d9ab-4bd6-97bf-c24d952602d2    super love  2020-08-28 03:57:20   \n",
      "27  97522e57-d9ab-4bd6-97bf-c24d952602d2        scared  2021-04-20 23:48:12   \n",
      "28  97522e57-d9ab-4bd6-97bf-c24d952602d2    interested  2021-03-07 12:40:11   \n",
      "29  97522e57-d9ab-4bd6-97bf-c24d952602d2   indifferent  2021-05-24 03:21:13   \n",
      "30  97522e57-d9ab-4bd6-97bf-c24d952602d2    super love  2021-01-24 11:03:43   \n",
      "31  97522e57-d9ab-4bd6-97bf-c24d952602d2       disgust  2021-04-09 02:46:20   \n",
      "32  97522e57-d9ab-4bd6-97bf-c24d952602d2    super love  2021-02-02 03:43:43   \n",
      "33  97522e57-d9ab-4bd6-97bf-c24d952602d2    interested  2021-02-04 03:06:12   \n",
      "34  97522e57-d9ab-4bd6-97bf-c24d952602d2       dislike  2020-11-09 02:49:59   \n",
      "35  97522e57-d9ab-4bd6-97bf-c24d952602d2        scared  2020-09-29 16:00:27   \n",
      "36  97522e57-d9ab-4bd6-97bf-c24d952602d2          want  2021-02-13 07:54:01   \n",
      "37  97522e57-d9ab-4bd6-97bf-c24d952602d2    interested  2020-07-14 05:28:44   \n",
      "38  97522e57-d9ab-4bd6-97bf-c24d952602d2   indifferent  2020-08-23 10:30:37   \n",
      "39  97522e57-d9ab-4bd6-97bf-c24d952602d2       worried  2021-05-10 09:27:42   \n",
      "\n",
      "   Content Type  Category Sentiment  Score  \n",
      "0         photo  Studying  negative      0  \n",
      "1         photo  Studying  negative     10  \n",
      "2         photo  Studying  negative     15  \n",
      "3         photo  Studying  negative      0  \n",
      "4         photo  Studying  positive     30  \n",
      "5         photo  Studying   neutral     35  \n",
      "6         photo  Studying  positive     70  \n",
      "7         photo  Studying  negative      5  \n",
      "8         photo  Studying   neutral     35  \n",
      "9         photo  Studying   neutral     20  \n",
      "10        photo  Studying  negative     15  \n",
      "11        photo  Studying  positive     30  \n",
      "12        photo  Studying  negative      5  \n",
      "13        photo  Studying  negative     15  \n",
      "14        photo  Studying  positive     75  \n",
      "15        photo  Studying   neutral     35  \n",
      "16        photo  Studying   neutral     20  \n",
      "17        photo  Studying  positive     30  \n",
      "18        photo  Studying   neutral     35  \n",
      "19        photo  Studying  negative     12  \n",
      "20        photo  Studying  positive     50  \n",
      "21        photo  Studying  positive     60  \n",
      "22        photo  Studying  negative     12  \n",
      "23        photo  Studying  negative      5  \n",
      "24        photo  Studying  negative      5  \n",
      "25        photo  Studying  positive     70  \n",
      "26        photo  Studying  positive     75  \n",
      "27        photo  Studying  negative     15  \n",
      "28        photo  Studying  positive     30  \n",
      "29        photo  Studying   neutral     20  \n",
      "30        photo  Studying  positive     75  \n",
      "31        photo  Studying  negative      0  \n",
      "32        photo  Studying  positive     75  \n",
      "33        photo  Studying  positive     30  \n",
      "34        photo  Studying  negative     10  \n",
      "35        photo  Studying  negative     15  \n",
      "36        photo  Studying  positive     70  \n",
      "37        photo  Studying  positive     30  \n",
      "38        photo  Studying   neutral     20  \n",
      "39        photo  Studying  negative     12  \n"
     ]
    }
   ],
   "source": [
    "import pandas as pd\n",
    "# Load cleaned datasets\n",
    "cleaned_content = pd.read_csv('cleaned_content.csv')\n",
    "cleaned_reactions = pd.read_csv('cleaned_rections.csv')  # Corrected file name\n",
    "reaction_types = pd.read_csv('ReactionTypes.csv')\n",
    "\n",
    "# Merge cleaned_reactions with cleaned_content using 'Content ID' as the key\n",
    "merged_data = pd.merge(cleaned_reactions, cleaned_content, on='Content ID', how='left')\n",
    "\n",
    "# Merge merged_data with reaction_types using 'Reaction Type' as the key\n",
    "final_data = pd.merge(merged_data, reaction_types, left_on='Rections Type', right_on='Type', how='left')\n",
    "\n",
    "# Drop unnecessary columns\n",
    "final_data.drop(columns=['Unnamed: 0_x', 'Unnamed: 0_y', 'Type'], inplace=True)\n",
    "\n",
    "# Reorder columns\n",
    "final_data = final_data[['Content ID', 'Rections Type', 'Datetime', 'Content Type', 'Category', 'Sentiment', 'Score']]\n",
    "\n",
    "# Display the first few rows of the final merged dataset\n",
    "print(final_data.head(40))\n",
    "final_data.to_csv('top_5_categories.csv', index=False)\n",
    "\n"
   ]
  },
  {
   "cell_type": "code",
   "execution_count": 8,
   "metadata": {},
   "outputs": [
    {
     "data": {
      "text/plain": [
       "Content ID          0\n",
       "Rections Type       0\n",
       "Datetime            0\n",
       "Content Type     4150\n",
       "Category         4150\n",
       "Sentiment           0\n",
       "Score               0\n",
       "dtype: int64"
      ]
     },
     "execution_count": 8,
     "metadata": {},
     "output_type": "execute_result"
    }
   ],
   "source": [
    "final_data.isnull().sum()"
   ]
  },
  {
   "cell_type": "code",
   "execution_count": 11,
   "metadata": {},
   "outputs": [],
   "source": [
    "final_data.dropna(inplace=True)"
   ]
  },
  {
   "cell_type": "code",
   "execution_count": 12,
   "metadata": {},
   "outputs": [
    {
     "data": {
      "text/plain": [
       "Content ID       0\n",
       "Rections Type    0\n",
       "Datetime         0\n",
       "Content Type     0\n",
       "Category         0\n",
       "Sentiment        0\n",
       "Score            0\n",
       "dtype: int64"
      ]
     },
     "execution_count": 12,
     "metadata": {},
     "output_type": "execute_result"
    }
   ],
   "source": [
    "final_data.isnull().sum()"
   ]
  },
  {
   "cell_type": "code",
   "execution_count": 14,
   "metadata": {},
   "outputs": [],
   "source": [
    "final_data.to_csv('top_5_categories.csv', index=False)"
   ]
  }
 ],
 "metadata": {
  "kernelspec": {
   "display_name": "base",
   "language": "python",
   "name": "python3"
  },
  "language_info": {
   "codemirror_mode": {
    "name": "ipython",
    "version": 3
   },
   "file_extension": ".py",
   "mimetype": "text/x-python",
   "name": "python",
   "nbconvert_exporter": "python",
   "pygments_lexer": "ipython3",
   "version": "3.10.9"
  }
 },
 "nbformat": 4,
 "nbformat_minor": 2
}
